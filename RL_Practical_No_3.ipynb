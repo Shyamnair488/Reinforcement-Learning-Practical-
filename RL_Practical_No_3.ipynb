{
  "nbformat": 4,
  "nbformat_minor": 0,
  "metadata": {
    "colab": {
      "provenance": []
    },
    "kernelspec": {
      "name": "python3",
      "display_name": "Python 3"
    },
    "language_info": {
      "name": "python"
    }
  },
  "cells": [
    {
      "cell_type": "markdown",
      "source": [
        "AIM : To implement vanilla q learning algorithm"
      ],
      "metadata": {
        "id": "eKTZ_k5FXh_j"
      }
    },
    {
      "cell_type": "code",
      "source": [
        "import numpy as np\n"
      ],
      "metadata": {
        "id": "0t_ToYl8atXa"
      },
      "execution_count": 7,
      "outputs": []
    },
    {
      "cell_type": "code",
      "source": [
        "\n",
        "# Define the environment\n",
        "grid_size = 3\n",
        "num_states = grid_size ** 2\n",
        "num_actions = 4\n",
        "\n",
        "\n",
        "\n"
      ],
      "metadata": {
        "colab": {
          "base_uri": "https://localhost:8080/"
        },
        "id": "tJkAd6vMa1TS",
        "outputId": "048a2d08-98f2-416b-b699-31eba3b40ca8"
      },
      "execution_count": 8,
      "outputs": [
        {
          "output_type": "stream",
          "name": "stdout",
          "text": [
            "Optimal Policy:\n",
            "[[0 0 0]\n",
            " [0 0 0]\n",
            " [0 0 0]]\n"
          ]
        }
      ]
    },
    {
      "cell_type": "code",
      "source": [
        "\n",
        "# Define the environment layout: S=start, G=goal, X=obstacle\n",
        "env_layout = [\n",
        "    ['S', ' ', 'X'],\n",
        "    [' ', 'X', ' '],\n",
        "    ['X', ' ', 'G']\n",
        "]\n",
        "\n"
      ],
      "metadata": {
        "id": "n0-it6Una-I5"
      },
      "execution_count": 8,
      "outputs": []
    },
    {
      "cell_type": "code",
      "source": [
        "# Define rewards: -1 for each step, 10 for reaching the goal, -10 for hitting an obstacle\n",
        "rewards = {\n",
        "    'S': -1,\n",
        "    ' ': -1,\n",
        "    'X': -10,\n",
        "    'G': 10\n",
        "}\n",
        "\n"
      ],
      "metadata": {
        "id": "-J3K1q2IbE6W"
      },
      "execution_count": 11,
      "outputs": []
    },
    {
      "cell_type": "code",
      "source": [
        "# Define Q-table and initialize it with zeros\n",
        "Q = np.zeros((num_states, num_actions))\n",
        "\n"
      ],
      "metadata": {
        "id": "89rhFxdDbAyD"
      },
      "execution_count": 12,
      "outputs": []
    },
    {
      "cell_type": "code",
      "source": [
        "# Hyperparameters\n",
        "alpha = 0.1       # Learning rate\n",
        "gamma = 0.9       # Discount factor\n",
        "epsilon = 0.1     # Exploration rate\n",
        "num_episodes = 1000\n",
        "\n"
      ],
      "metadata": {
        "id": "ga-JZAxJbA76"
      },
      "execution_count": 13,
      "outputs": []
    },
    {
      "cell_type": "code",
      "source": [
        "# Helper function to convert 2D coordinates to a 1D state index\n",
        "def state_index(row, col):\n",
        "    return row * grid_size + col\n",
        "\n"
      ],
      "metadata": {
        "id": "ACjiknygbPCo"
      },
      "execution_count": 14,
      "outputs": []
    },
    {
      "cell_type": "code",
      "source": [
        "# Q-learning algorithm\n",
        "for episode in range(num_episodes):\n",
        "    state = state_index(0, 0)  # Start from the top-left corner\n",
        "    done = False\n",
        "\n",
        "    while not done:\n",
        "        # Choose an action using epsilon-greedy policy\n",
        "        if np.random.rand() < epsilon:\n",
        "            action = np.random.randint(0, num_actions)  # Exploration: choose a random action\n",
        "        else:\n",
        "            action = np.argmax(Q[state, :])  # Exploitation: choose the action with the highest Q-value\n",
        "\n",
        "        # Take the chosen action and observe the next state and reward\n",
        "        row, col = divmod(state, grid_size)\n",
        "        if action == 0:  # Up\n",
        "            new_row = max(row - 1, 0)\n",
        "            new_col = col\n",
        "        elif action == 1:  # Down\n",
        "            new_row = min(row + 1, grid_size - 1)\n",
        "            new_col = col\n",
        "        elif action == 2:  # Left\n",
        "            new_row = row\n",
        "            new_col = max(col - 1, 0)\n",
        "        else:  # Right\n",
        "            new_row = row\n",
        "            new_col = min(col + 1, grid_size - 1)\n",
        "\n",
        "        next_state = state_index(new_row, new_col)\n",
        "        reward = rewards[env_layout[new_row][new_col]]\n",
        "\n",
        "        # Q-value update using the Q-learning formula\n",
        "        Q[state, action] += alpha * (reward + gamma * np.max(Q[next_state, :]) - Q[state, action])\n",
        "\n",
        "        state = next_state\n",
        "\n",
        "        if env_layout[new_row][new_col] in ('G', 'X'):\n",
        "            done = True\n"
      ],
      "metadata": {
        "id": "xMb_qBiSbRRM"
      },
      "execution_count": 15,
      "outputs": []
    },
    {
      "cell_type": "code",
      "source": [
        "\n",
        "print(\"Optimal Q-values:\")\n"
      ],
      "metadata": {
        "colab": {
          "base_uri": "https://localhost:8080/"
        },
        "id": "2T4f0yg5bTJX",
        "outputId": "34a942a6-6ad5-4be9-fc29-75066addc5f1"
      },
      "execution_count": 16,
      "outputs": [
        {
          "output_type": "stream",
          "name": "stdout",
          "text": [
            "Optimal Q-values:\n"
          ]
        }
      ]
    },
    {
      "cell_type": "code",
      "source": [
        "print(Q)# Extract the optimal policy (the action with the highest Q-value for each state)\n"
      ],
      "metadata": {
        "colab": {
          "base_uri": "https://localhost:8080/"
        },
        "id": "CdrPjMcfbU3e",
        "outputId": "48db5909-8581-40c0-addb-e9fde6e593a5"
      },
      "execution_count": 17,
      "outputs": [
        {
          "output_type": "stream",
          "name": "stdout",
          "text": [
            "[[-10. -10. -10. -10.]\n",
            " [-10. -10. -10. -10.]\n",
            " [  0.   0.   0.   0.]\n",
            " [-10. -10. -10. -10.]\n",
            " [  0.   0.   0.   0.]\n",
            " [  0.   0.   0.   0.]\n",
            " [  0.   0.   0.   0.]\n",
            " [  0.   0.   0.   0.]\n",
            " [  0.   0.   0.   0.]]\n"
          ]
        }
      ]
    },
    {
      "cell_type": "code",
      "source": [
        "optimal_policy = np.argmax(Q, axis=1)\n",
        "print(\"Optimal Policy:\")\n"
      ],
      "metadata": {
        "colab": {
          "base_uri": "https://localhost:8080/"
        },
        "id": "kY01ByakbWTT",
        "outputId": "bdce22a7-152d-4a00-9002-43457f43e02d"
      },
      "execution_count": 18,
      "outputs": [
        {
          "output_type": "stream",
          "name": "stdout",
          "text": [
            "Optimal Policy:\n"
          ]
        }
      ]
    },
    {
      "cell_type": "code",
      "source": [
        "print(optimal_policy.reshape(grid_size, grid_size))"
      ],
      "metadata": {
        "colab": {
          "base_uri": "https://localhost:8080/"
        },
        "id": "ZwK_v5dPbX0n",
        "outputId": "2ea4831b-4dd3-42d8-d553-8c1f5c990233"
      },
      "execution_count": 19,
      "outputs": [
        {
          "output_type": "stream",
          "name": "stdout",
          "text": [
            "[[2 0 0]\n",
            " [2 0 0]\n",
            " [0 0 0]]\n"
          ]
        }
      ]
    },
    {
      "cell_type": "code",
      "source": [],
      "metadata": {
        "id": "QhgWyrVlbYTU"
      },
      "execution_count": null,
      "outputs": []
    }
  ]
}